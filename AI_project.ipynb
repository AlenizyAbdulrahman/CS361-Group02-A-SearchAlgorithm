{
 "cells": [
  {
   "cell_type": "markdown",
   "metadata": {},
   "source": [
    "<img src=\"ccis.png\" width=\"400\" height=\"400\">"
   ]
  },
  {
   "cell_type": "markdown",
   "metadata": {},
   "source": [
    "### Submitted by:\n",
    "\n",
    "<ul>\n",
    "    <li>Abdulrahman Alenizy - 440024383</li>\n",
    "    <li>Ziyad Alenizy - 440018676</li>\n",
    "    <li>Yousef Alturki - 440013537</li>\n",
    "</ul>\n",
    "\n",
    "###  Supervisor: DR. Omar Abdulrahman Alaql"
   ]
  },
  {
   "cell_type": "markdown",
   "metadata": {},
   "source": [
    "# Intoduction: \n",
    "Search algorithms are used to find the goal starting from the starting state to the goal state by taking the problem as an input and returning the solution to the problem after a number of steps to reach a possible solution result.\n",
    "\n",
    "Search algorithms contains:\n",
    "<ul>\n",
    "    <li>State space: a set of all accessible configurations in the problem environment.</li>\n",
    "    <li>Successor function: number of possible action from one state to another.</li>\n",
    "    <li>Start state: starting point.</li>\n",
    "    <li>Goal State: Access Point (the target).</li>\n",
    "</ul>\n",
    "\n",
    "There are two types of search algorithms:\n",
    "<ol type=\"1\">\n",
    "    <li>Informed search algorithm: has a set of information like how far we are from the target, the cost of the path, Number of paths available to agent and how to reach the target node. These information help agents reduce search space exploration and find the target node more efficiently. For example, Greedy search algorithm and A* Search Algorithm.\n",
    "</li><br>\n",
    "    <li>Uninformed Search Algorithms: Uninformed search algorithms are a class of brute force search algorithms. Undirected search algorithms do not contain additional information about the state or search space and whether the path is true or false to traverse the tree. For example, Breadth first search and Depth first search.</li>\n",
    "</ol>\n",
    "\n",
    "\n",
    "<b>In this project we will explan and implement A* search algorithm by using python language .</b>"
   ]
  },
  {
   "cell_type": "markdown",
   "metadata": {
    "direction": "rtl"
   },
   "source": [
    "<div dir=rtl>\n",
    "<h1>مقدمة</h1>\n",
    "\n",
    "تستخدم خوارزميات البحث للعثور على الهدف بدءا من نقطة البداية الى الهدف المطلوب عن طريق اخذ المشكلة كمدخل واعادة الحل للمشكلة بعد عدد من الخطوات للوصول الى نتيجة حل ممكنة.\n",
    "\n",
    "تحتوي خوارزميات البحث على:\n",
    "<ul>\n",
    "    <li>فضاء الحالة : هي مجموعة التكوينات التي يمكن الوصول اليها في بيئة المشكلة.</li>\n",
    "    <li>التحركات: عدد الاحتمالات الممكنة من حالة الى حالة اخرى.</li>\n",
    "    <li>حالة البداية : نقطة الانطلاق.</li>\n",
    "    <li>حالة الهدف : نقطة الوصول.</li>\n",
    "</ul>\n",
    "\n",
    "خوارزميات البحث تنقسم إلى نوعين:\n",
    " \n",
    "<ol type=\"1\">\n",
    "    <li>خوارزميات بحث موجَّه: تحتوي خوارزمية البحث الموجه على مجموعة من المعلومات مثل مدى بُعدنا عن الهدف وتكلفة المسار وعدد المسارات المتاحة للوكيل وكيفية الوصول إلى العقدة المستهدفة. تساعد هذه المعلومات الوكلاء في تقليل استكشاف مساحة البحث والعثور على العقدة المستهدفة بشكل أكثر كفاءة. على سبيل  المثال , خوارزمية البحث الجشعة و أ* .</li>\n",
    "    <br>    \n",
    "    <li>خوارزميات بحث غير موجَّه: خوارزمية البحث غير موجه هي فئة من خوارزميات البحث التي تعمل بطريقة القوة الغاشمة. لا تحتوي خوارزميات البحث الغير موجه على معلومات إضافية حول الحالة أو مساحة البحث وما إذا كان المسار صحيحًا أم خاطئًا لاجتياز الشجرة. مثل , اتساع البحث أولا و عمق البحث الأول .</li>\n",
    "</ol>\n",
    "\n",
    "<b>في هذا البروجكت سوف نقوم بشرح وتطبيق خوارزمية البحث أ* بأستخدام لغة البايثون.</b>\n",
    "\n",
    "\n",
    "\n",
    "</div>\n"
   ]
  },
  {
   "cell_type": "markdown",
   "metadata": {},
   "source": [
    "# A* search algorithm:\n",
    "\n",
    "A* search algorithm finds the lowest cost path from the start state to goal state (the target), it use a heuristic function, and it is provide a complete as well as an optimal soulution.\n",
    "<ul>\n",
    "    <li>Heuristic function: measure how close the target is to the current state, and used to decide which states leads to goal, heuristic function is important in determining the efficiency of the algorithm.</li>\n",
    "    <li>Optimal: find the least cost path to acvhive a goal state \" best possible solution for the problem \".</li>\n",
    "    <li>Complete: find all available paths from start state to goal state.</li>\n",
    "</ul>\n",
    "\n",
    "\n",
    "\n",
    "\n"
   ]
  },
  {
   "cell_type": "markdown",
   "metadata": {
    "direction": "rtl"
   },
   "source": [
    "<div dir=rtl>\n",
    "<h1>خوارزمية أ*:</h1>\n",
    "\n",
    "تعمل خوارزمية البحث أ* على إيجاد اقل مسار تكلفة من نقطة البداية الى نقطة النهاية (الهدف), تستخدم خوارزمية أ* الدالة الارشادية , كما انها توفر لنا حل مكتمل و مثالي . \n",
    "<ul>\n",
    "    <li>الدالة الارشادية: قياس مدى قرب الهدف من الحالة الحالية, تعتبر الدالة الارشادية مهمه لتحديد الحالات التي ترشدنا الى الهدف كما انها تستخدم لتحديد كفاءة الخوارزمية.</li>\n",
    "    <li>مثالي: العثور على المسار الأقل تكلفة لتحقيق حالة الهدف \" أفضل حل ممكن للمشكلة \".</li>\n",
    "    <li>مكتمل: البحث عن جميع المسارات المتاحة من حالة البداية إلى حالة الهدف.</li>\n",
    "</ul>\n",
    "\n",
    "</div>\n",
    "\n"
   ]
  },
  {
   "cell_type": "markdown",
   "metadata": {},
   "source": [
    "# A* concepts:\n",
    "\n",
    "\n",
    "A* search algorithm calculate the cost to travel from current state to the neighbouring states and chooses the state that has least cost by using a mathematical equation.<br>\n",
    "    \n",
    "f(n) = g(n) + h(n)\n",
    "<p> \n",
    "Where:<br>\n",
    "g(n): the actual cost path from the start state to the current state.<br>\n",
    "h(n): the estimate cost path from the current state to the goal state.<br>\n",
    "f(n): the estimate cost path from the start state to the goal state.<br>\n",
    "</p>\n",
    "\n",
    "To solve problem by using A* search algorithm we will use two arrays.<br>\n",
    "<ul>\n",
    "    <li>The first array is used to store the neighbour states of the current state, we will call it \"Fringe\".</li>\n",
    "    <li>The second array is used to store the states that have been traveled to in order to avoid a cycle, so that if we travel to a certain state and it is added to the second array we cannot travel to it again, we will call it \"Expand\".</li>\n",
    "</ul>\n",
    "\n",
    "\n",
    "\n",
    "\n",
    "In the following example, we will see how the A* search algorithm works."
   ]
  },
  {
   "cell_type": "markdown",
   "metadata": {
    "direction": "rtl"
   },
   "source": [
    "<div dir=rtl>\n",
    "<h1>مفاهيم أ*:</h1>\n",
    "\n",
    "تحسب خوارزمية البحث أ* تكلفة التنقل من الحالة الحالية إلى الحالات المجاورة وتختار الحالة الأقل تكلفة باستخدام معادلة رياضية.\n",
    "\n",
    "f(n) = g(n) + h(n) \n",
    "\n",
    "<p> \n",
    "حيث أن :<br>\n",
    "g(n): مسار التكلفة الفعلية من حالة البداية إلى الحالة الحالية.\n",
    "<br>\n",
    "h(n): مسار التكلفة التقديرية من الحالة الحالية إلى حالة الهدف.\n",
    "<br>\n",
    "f(n): مسار التكلفة التقديرية من حالة البداية إلى حالة الهدف.\n",
    "<br>\n",
    "</p>\n",
    "\n",
    "لحل المشكلة باستخدام خوارزمية أ* سوف نستخدم مصفوفتين.\n",
    "<ul>\n",
    "    <li>المصفوفة الاولى تستخدم لتخزين الحالات المجاورة للحالة الحالية، سوف نقوم بتسميتها \"Fringe\".</li>\n",
    "    <li>المصفوفة الثانية تستخدم لتخزين الحالات الي تم السفر اليها لكي  نتفادي حدوث دورة، بحيث اذا قمنا بالسفر الى حالة معينة وتم اضافتها الى المصفوفة الثانية لايمكننا السفر اليها مرة اخرى، سوف نقوم بتسميتها \"Expand\".</li>\n",
    "</ul>\n",
    "\n",
    "في المثال التالي سوف نرى آلية عمل خوارزمية البحث أ* .\n",
    "</div>\n"
   ]
  },
  {
   "cell_type": "markdown",
   "metadata": {
    "direction": "ltr"
   },
   "source": [
    "<img src=\"AExample.gif\" width=\"950\" height=\"350\">"
   ]
  },
  {
   "cell_type": "markdown",
   "metadata": {},
   "source": [
    "now after we have seen how is A* search algorithm working we will aplly it on our problem."
   ]
  },
  {
   "cell_type": "markdown",
   "metadata": {
    "direction": "rtl"
   },
   "source": [
    "<div dir=rtl> الأن بعد ان رأينا كيفية عمل خوارزمية البحث أ* سوف نقوم بتطبيقها على مشكلتنا.</div>\n"
   ]
  },
  {
   "cell_type": "markdown",
   "metadata": {},
   "source": [
    "# Networks Problem Example \n",
    "\n",
    "As we can see in the following example, the network is divided into two parts:\n",
    "<ol>\n",
    "    <li>The network edge and it contains a group of computers linked to a common switch.</li>\n",
    "    <li>The network core and it contains a group of routers.</li>\n",
    "</ol>\n",
    "When we sending data between two computers in different networks edge, the message will transmit from the sender network edge to the network core and passing through a group of routers until it reach to other network edge where the destination is located."
   ]
  },
  {
   "cell_type": "markdown",
   "metadata": {
    "direction": "rtl"
   },
   "source": [
    "<div dir=rtl>\n",
    "<h1>مثال على مشكلة الشبكات</h1> \n",
    "\n",
    "كما نرى في المثال التالي تنقسم الشبكة الى قسمين:\n",
    "<ol>\n",
    "    <li>أطراف الشبكة وتحتوي على مجموعة من أجهزة الحاسب مرتبطة بجهاز موزع مشترك.</li>\n",
    "    <li>نواة الشبكة وتحتوي على مجموعة من أجهزة الراوتر.</li>\n",
    "</ol>\n",
    "\n",
    "عند إرسال البيانات بين جهازين حاسب في طرفين مختلفين فإن الرسالة تنتقل من حاسب المرسل الموجود في طرف الشبكة الى نواة الشبكة والانتقال بين مجموعة من أجهزه الراوتر الى طرف الشبكة الاخر لتسليم البيانات الى حاسب المستلم (الهدف المطلوب).\n",
    "</div>\n"
   ]
  },
  {
   "cell_type": "markdown",
   "metadata": {},
   "source": [
    "<img src=\"networking.png\" width=\"950\" height=\"350\">"
   ]
  },
  {
   "cell_type": "markdown",
   "metadata": {},
   "source": [
    "We will apply the algorithm to the problem of sending data from device A to device G1 to find the fastest possible path to transfer data between two devices.<br>\n",
    "\n",
    "The heuristic function used in this example is the number of users on the networks. if number of users decrease then the data transmission rate will increase.<br>\n",
    "<ul>\n",
    "    <li>The edges number between nodes represent the real number of users in the network.</li>\n",
    "    <li>The numbers above the node represent the estimated number of users in the network.</li>\n",
    "</ul>\n",
    "\n",
    "problem formulation:\n",
    "<ol type = \"1\">\n",
    "    <li>State space: computers,routers and switches.</li>\n",
    "    <li>Successor function: moves from router or switche to another router or switche.</li>\n",
    "    <li>Initial state: source device \"A\".</li>\n",
    "    <li>Goal state (target): destination device \"G1\".</li>\n",
    "</ol>"
   ]
  },
  {
   "cell_type": "markdown",
   "metadata": {
    "direction": "rtl"
   },
   "source": [
    "<div dir=rtl>\n",
    "سوف نطبق الخوارزمية على مشكلة ارسال البيانات من جهاز أ الى جهاز ج للعثور على أسرع طريق ممكن لنقل البيانات بين الجهازين.\n",
    "\n",
    "الدالة الارشادية المستخدمة في هذا المثال عدد المستخدمين في الشبكة، فكلما قل عدد المستخدمين زادت سرعة إرسال البيانات.\n",
    "<ul>\n",
    "    <li>تمثل الأرقام الموجودة على الاضلاع المرتبطة بين العقد القيمة الحقيقية لعدد المستخدمين في الشبكة.</li>\n",
    "    <li>تمثل الأرقام الموجودة فوق العقدة القيمة المتوقعة لعدد المستخدمين في الشبكة.</li>\n",
    "</ul>\n",
    "\n",
    "صياغة المشكلة:\n",
    "<ol type = \"1\">\n",
    "    <li>فضاء الحالة: أجهزه الحاسب, أجهزه الراوتر, وأجهزة الموزع.</li>\n",
    "    <li>التحركات: الانتقال من راوتر أو موزع الى راوتر أو موزع اخر.</li>\n",
    "    <li>الحالة الابتدائية: المرسل جهاز أ.</li>\n",
    "    <li>الحالة النهائية (الهدف): المستقبل جهاز ج.</li>\n",
    "</ol>\n",
    "</div>\n"
   ]
  },
  {
   "cell_type": "markdown",
   "metadata": {},
   "source": [
    " <img src=\"NetworkExample.gif\" width=\"950\" height=\"350\">"
   ]
  },
  {
   "cell_type": "markdown",
   "metadata": {},
   "source": [
    "# Implementation:"
   ]
  },
  {
   "cell_type": "markdown",
   "metadata": {
    "direction": "rtl"
   },
   "source": [
    "<div dir=rtl>\n",
    "<h1>التنفيذ</h1>\n",
    "</div>\n"
   ]
  },
  {
   "cell_type": "markdown",
   "metadata": {},
   "source": [
    "### A* search algorithm"
   ]
  },
  {
   "cell_type": "markdown",
   "metadata": {
    "direction": "rtl"
   },
   "source": [
    "<div dir=rtl>\n",
    "<h3>خوارزمية البحث أ*</h3>\n",
    "</div>\n"
   ]
  },
  {
   "cell_type": "code",
   "execution_count": null,
   "metadata": {},
   "outputs": [],
   "source": [
    "class AstarSearch:\n",
    "\n",
    "\n",
    "    def __init__(self, tree:dict, heuristic:dict):\n",
    "        self.tree = tree\n",
    "        self.heuristic = heuristic \n",
    "\n",
    "\n",
    "    def a_star_search_algorithm(self, start:chr, Goal:chr):\n",
    "        self.expand_nodes = []\n",
    "        self.path_cost = {start: 0}\n",
    "        self.start_heuristic = self.heuristic[start]\n",
    "        self.fringe_nodes = [[start,self.start_heuristic]]"
   ]
  },
  {
   "cell_type": "markdown",
   "metadata": {},
   "source": [
    "In the previous part:\n",
    "<ul>\n",
    "    <li>create a class for the algorithm.</li>\n",
    "    <li>defined class constructor, receives the tree and the heuristic function.</li>\n",
    "    <li>create A* algorithm function, receives the start node and the goal node.</li>\n",
    "    <li>create expand array.</li>\n",
    "    <li>create path cost array.</li>\n",
    "    <li>store start node heuristic.</li>\n",
    "    <li>create fringe array and insert start node and it is heuristic.</li>\n",
    "</ul>"
   ]
  },
  {
   "cell_type": "markdown",
   "metadata": {
    "direction": "rtl"
   },
   "source": [
    "<div dir=rtl>\n",
    "في الجزئية السابقة: \n",
    "قمنا بانشاء فصل للخوارزمية وتعريف منشئ الفصل يستقبل الشجرة والدالة الارشادية ومن ثم قمنا بانشاء دالة الخوارزمية أ* تستقبل عقدة البداية وعقدة الهدف وتقوم باضافة عقدة البداية الى مصفوفة \"fringe\".\n",
    "<ul>\n",
    "    <li>إنشاء فصل للخوارزمية.</li>\n",
    "    <li>تعريف منشئ الفصل يستقبل الشجرة والدالة الارشادية.</li>\n",
    "    <li>إنشاء دالة الخوارزمية أ* تستقبل عقدة البداية وعقدة النهاية.</li>\n",
    "    <li>إنشاء مصفوفة \"expand\".</li>\n",
    "    <li>إأنشاء مصفوفة لقيمة المسار.</li>\n",
    "    <li>تخزين الدالة لارشادية لعقدة البداية.</li>\n",
    "    <li>إنشاء مصفوفة \"fringe\" وإضافة عقدة البداية ودالتها الارشادية.</li>\n",
    "    \n",
    "</ul>\n",
    "</div>\n"
   ]
  },
  {
   "cell_type": "code",
   "execution_count": null,
   "metadata": {},
   "outputs": [],
   "source": [
    "        while True:\n",
    "            self.fn_values = [i[1] for i in self.fringe_nodes]\n",
    "            self.small_fn_index = self.fn_values.index(min(self.fn_values))\n",
    "            self.small_node_fn_char = self.fringe_nodes[self.small_fn_index][0]"
   ]
  },
  {
   "cell_type": "markdown",
   "metadata": {},
   "source": [
    "In the previous part: \n",
    "<ul>\n",
    "    <li>creat a while loop to go through all the nodes.</li>\n",
    "    <li>store all f(n) values in \"fringe\" array.</li>\n",
    "    <li>store smallest f(n) value .</li>\n",
    "    <li>store character of smallest f(n) value.</li>\n",
    "</ul>"
   ]
  },
  {
   "cell_type": "markdown",
   "metadata": {
    "direction": "rtl"
   },
   "source": [
    "<div dir=rtl>\n",
    "في الجزئية السابقة:\n",
    "<ul>\n",
    "    <li>أنشاء حلقة تكرارية للمرور بجميع العقد.</li>\n",
    "    <li>تخزين جميع قيم f(n) الموجودة في مصفوفة \"fringe\"</li>\n",
    "    <li>تخزين اصغر قيمة لـ f(n)</li>\n",
    "    <li>تخزين حرف أصغر قيمة f(n) </li>\n",
    "</ul> \n",
    "</div>\n"
   ]
  },
  {
   "cell_type": "code",
   "execution_count": null,
   "metadata": {},
   "outputs": [],
   "source": [
    "            self.expand_nodes.append(self.fringe_nodes[self.small_fn_index])\n",
    "            del self.fringe_nodes[self.small_fn_index]\n",
    "            if self.expand_nodes[-1][0] == Goal:\n",
    "                break"
   ]
  },
  {
   "cell_type": "markdown",
   "metadata": {},
   "source": [
    "In the previous part: \n",
    "<ul>\n",
    "    <li>insert smallest f(n) node in expand array.</li>\n",
    "    <li>remove smallest f(n) node from fringe array after it has been added to expand array.</li>\n",
    "    <li>if goal have been expanded then stop the loop!.</li>\n",
    "</ul>"
   ]
  },
  {
   "cell_type": "markdown",
   "metadata": {
    "direction": "rtl"
   },
   "source": [
    "<div dir=rtl>\n",
    "في الجزئية السابقة: \n",
    "<ul>\n",
    "    <li>أضافة أصغر قيمة لـ f(n) في مصفوفة \"expand\".</li>\n",
    "    <li>أزالة أصغر قمية لـ f(n) من مصفوفة \"fringe\" بعد ان تم اضافتها الى مصفوفة \"expand\".</li>\n",
    "    <li>في حال تم عمل expand للهدف إذاً أوقف التكرار!.</li>\n",
    "</ul>\n",
    "</div>\n"
   ]
  },
  {
   "cell_type": "code",
   "execution_count": null,
   "metadata": {},
   "outputs": [],
   "source": [
    "            for self.item in self.tree[self.small_node_fn_char]:\n",
    "                if self.item[0] in [self.expand_item[0] for self.expand_item in self.expand_nodes]:\n",
    "                    continue\n",
    "                self.path_cost.update({self.item[0]: self.path_cost[self.small_node_fn_char] + self.item[1]})\n",
    "                self.fn_value = self.path_cost[self.small_node_fn_char] + heuristic[self.item[0]] + self.item[1]\n",
    "                self.temp = [self.item[0], self.fn_value] \n",
    "                self.fringe_nodes.append(self.temp)\n",
    "        return self.fringe_nodes, self.expand_node, self.path_cost.get(Goal)"
   ]
  },
  {
   "cell_type": "markdown",
   "metadata": {},
   "source": [
    "In the previous part:\n",
    "<ul>\n",
    "    <li>create for loop to discover all current node neighbores.</li>\n",
    "    <li>if any of current node neighbores have already expanded then skip it.</li>\n",
    "</ul>\n",
    "<ul>\n",
    "<b>Otherwise: </b>\n",
    "    <li>update actual path cost value of current node neighbores {current node = total path cost from start node to previous node + actual cost from previous node to current node}.</li>\n",
    "    <li>calculate and store f(n) value for current node { f(n) of current node = actual path cost + heuristic  }.</li>\n",
    "    <li>store f(n) value of current node and it is character in a temp variable.</li>\n",
    "    <li>insert temp variable in fringe array.</li>\n",
    "    <li>return fringe array, expand array and total path cost.</li>\n",
    "</ul>"
   ]
  },
  {
   "cell_type": "markdown",
   "metadata": {
    "direction": "rtl"
   },
   "source": [
    "<div dir=rtl>\n",
    "في الجزئية السابقة : \n",
    "<ul>\n",
    "    <li>إنشاء حلقة تكرار لإكتشاف جميع الجيران للعقدة الحالية.</li>\n",
    "    <li>تحقق إذا كان أحد جيران الحالة الحالية في مصفوفة \"expand\" اذا قم بتجاهله.</li>\n",
    "    </ul>\n",
    "    <ul>\n",
    "    <b>غير ذلك:</b>\n",
    "    <li>تحديث قيمة المسار الحقيقي للعقد المجاورة للعقدة الحالية {العقدة الحالية = مجموع قيمة المسار الحقيقي من عقدة البداية الى العقدة السابقة + قيمة المسار الحقيقية من العقدة السابقة الى العقدة الحالية}.</li>\n",
    "    <li>حساب وتخزين قيمة f(n) للعقدة الحالية {قيمة f(n) للعقدة الحالية = قيمة المسار الحقيقي + الدالة الارشادية}.</li>\n",
    "    <li>تخزين حرف و قيمة f(n) للعقدة الحالية في متغير مؤقت.</li>\n",
    "    <li>إضافة المتغير المؤقت في مصفوفة \"fringe\". </li>\n",
    "    <li>إرجاع مصفوفة \"fringe\", مصفوفة \"expand\" و مصفوفة تكلفة المسار .</li>\n",
    "</ul>\n",
    "</div>\n"
   ]
  },
  {
   "cell_type": "code",
   "execution_count": null,
   "metadata": {},
   "outputs": [],
   "source": [
    "    def optimal(self, Goal):\n",
    "        self.optimal_path = [Goal]\n",
    "        for i in range(len(self.expand_nodes)-2,-1,-1):\n",
    "            self.current_node_char = self.expand_nodes[i][0]\n",
    "            if Goal in [self.children[0] for self.children in self.tree[self.current_node_char]]:\n",
    "                self.optimal_path.append(self.current_node_char)\n",
    "                Goal = self.current_node_char\n",
    "        self.optimal_path.reverse()\n",
    "        return self.optimal_path"
   ]
  },
  {
   "cell_type": "markdown",
   "metadata": {},
   "source": [
    "In the previous part:\n",
    "<ul>\n",
    "    <li>create optimal path function, recive goal node.</li>\n",
    "    <li>create optimal path array and insert the goal node.</li>\n",
    "    <li>create loop begin from the last index in expand array and move until reach the first index.</li>\n",
    "    <li>store current node character.</li>\n",
    "    <li>check if goal inside current node neighbores.</li>\n",
    "    then:\n",
    "    <li>add current node to optimal path array.</li>\n",
    "    <li>Goal node = current node.</li>\n",
    "    <li>reverse optimal path array to get the path from start node to the goal node.</li>\n",
    "    <li>return optimal path array.</li>\n",
    "</ul>"
   ]
  },
  {
   "cell_type": "markdown",
   "metadata": {
    "direction": "rtl"
   },
   "source": [
    "<div dir=rtl>\n",
    "في الجزئية السابقة: \n",
    "<ul>\n",
    "    <li>إنشاء دالة المسار المثالي تستقبل عقدة الهدف.</li>\n",
    "    <li>إنشاء مصفوفة المسار المثالي وإضافة عقدة الهدف.</li>\n",
    "    <li>إنشاء حلقة تكرار تبدأ من المؤشر النهائي في مصفوفة \"expand\" وتتحرك حتى تصل الى المؤشر البدائي. </li>\n",
    "    <li>تخزين حرف العقدة الحالية.</li>\n",
    "    <li>تحقق اذا كان الهدف أحد جيران العقدة الحالية.</li>\n",
    "    إذًا:\n",
    "    <li>إضافة العقدة الحالية الى مصفوفة المسار المثالي.</li>\n",
    "    <li>عقدة الهدف = العقدة الحالية .</li>\n",
    "    <li>إعكس ترتيب مصفوفة المسار المثالي للحصول على المسار من عقدة البداية الى عقدة الهدف.</li>\n",
    "    <li>إرجاع مصفوفة المسار المثالي.</li>\n",
    "</ul>\n",
    "</div>\n"
   ]
  },
  {
   "cell_type": "markdown",
   "metadata": {},
   "source": [
    "#### Now after we have seen how A* search algorithm can be implemented, lets creat a main function to test our implementation."
   ]
  },
  {
   "cell_type": "markdown",
   "metadata": {
    "direction": "rtl"
   },
   "source": [
    "<div dir=rtl>\n",
    "<h3>الآن بعد أن رأينا كيف يمكن تنفيذ خوارزمية البحث A * , سوف نقوم بإنشاء الدالة الرئيسية لإختبار التنفيذ .</h3>\n",
    "</div>\n"
   ]
  },
  {
   "cell_type": "code",
   "execution_count": null,
   "metadata": {},
   "outputs": [],
   "source": [
    "if __name__ == \"__main__\":\n",
    "    tree = {\n",
    "        'A': [ ['S1',1] ],\n",
    "        'B': [ ['S1',1] ],\n",
    "        'C': [ ['S1',1] ],\n",
    "        'D': [ ['S1',1] ],\n",
    "        'S1': [ ['R1',3], ['R3',5] ],\n",
    "        'R1': [ ['R3',1], ['R2',4], ['R4',6] ],\n",
    "        'R2': [ ['S2',6] ],\n",
    "        'R3': [ ['R1',1], ['R4',5] ],\n",
    "        'R4': [ ['S2',4] ],\n",
    "        'S2': [ ['G1', 1], ['G2', 1], ['G3', 1], ['G4', 1] ],\n",
    "        'G1': [ ['S2',1] ],\n",
    "        'G2': [ ['S2',1] ],\n",
    "        'G3': [ ['S2',1] ],\n",
    "        'G4': [ ['S2',1] ]\n",
    "        \n",
    "    }\n",
    "\n",
    "    heuristic = {'A': 14, 'B': 14, 'C': 14, 'D': 14, 'S1': 13, 'R1': 10,'R2': 7, 'R3': 9, 'R4': 6, 'S2': 1, 'G1': 0, 'G2': 0, 'G3': 0, 'G4': 0}\n",
    "\n",
    "    try:\n",
    "        start = input(\"Please Enter Start Noode: \")\n",
    "        Goal = input(\"Please Enter Goal Node: \")\n",
    "        astar= AstarSearch(tree, heuristic)\n",
    "        fringe, expand, cost = astar.a_star_search_algorithm(start.upper(), Goal.upper())\n",
    "        optimal = astar.optimal(Goal.upper())\n",
    "        print(\"Fringe Nodes: \",fringe)\n",
    "        print(\"Expand Nodes: \", expand)\n",
    "        print(\"Optimal Path: \", optimal)\n",
    "        print(\"Total Cost: \", cost)\n",
    "    except :\n",
    "        print(\"\\n Wrong Chooise!, Please Try Again with Valid Input.\")"
   ]
  },
  {
   "cell_type": "markdown",
   "metadata": {},
   "source": [
    "#### Output:"
   ]
  },
  {
   "cell_type": "markdown",
   "metadata": {
    "direction": "rtl"
   },
   "source": [
    "<div dir=rtl>\n",
    "<h3>المخرجات:</h3>\n",
    "</div>\n"
   ]
  },
  {
   "cell_type": "markdown",
   "metadata": {},
   "source": [
    "<ul>\n",
    "    <li>Fringe Nodes:  [ ['R4', 16], ['R4', 16], ['R4', 16], ['G2', 15], ['G3', 15], ['G4', 15] ]</li>\n",
    "    <li>Expand Nodes:  [ ['A', 14], ['S1', 14], ['R1', 14], ['R3', 14], ['R3', 15], ['R2', 15], ['S2', 15], ['G1', 15] ]\n",
    "</li>\n",
    "    <li>Optimal Path:  ['A', 'S1', 'R1', 'R2', 'S2', 'G1']</li>\n",
    "    <li>Total Cost:  15</li>\n",
    "</ul>"
   ]
  },
  {
   "cell_type": "markdown",
   "metadata": {},
   "source": [
    "#### Now you can try our implementation by your self."
   ]
  },
  {
   "cell_type": "markdown",
   "metadata": {
    "direction": "rtl"
   },
   "source": [
    "<div dir=rtl>\n",
    "<h4>الأن يمكنك تجربة تنفيذنا بنفسك.</h4>\n",
    "</div>\n"
   ]
  },
  {
   "cell_type": "code",
   "execution_count": null,
   "metadata": {
    "scrolled": true
   },
   "outputs": [],
   "source": [
    "class AstarSearch:\n",
    "\n",
    "    #creat class constructor that takes two parameters: tree and heuristic \n",
    "    def __init__(self, tree:dict, heuristic:dict):\n",
    "        self.tree       = tree\n",
    "        self.heuristic  = heuristic \n",
    "\n",
    "    #A* search algorithm function\n",
    "    #this function used constructor variables and returns two parameters : visited node & Optimal path\n",
    "    def a_star_search_algorithm(self, start:chr, Goal:chr):\n",
    "        self.expand_node = []     # Expanded nodes\n",
    "        self.fringe_nodes = []     # Fringe nodes\n",
    "        self.path_cost = {start: 0}     #initial cost of paths\n",
    "        self.start_heuristic = self.heuristic[start]       #getting start node heuristic\n",
    "        self.fringe_nodes = [[start,self.start_heuristic]] #add start state and its heuristic to fringe\n",
    "\n",
    "        #find expanded nodes\n",
    "        while True:\n",
    "            self.fn_values = [i[1] for i in self.fringe_nodes] # take f(n) value for all nodes in fringe\n",
    "            self.small_fn_index = self.fn_values.index(min(self.fn_values)) # take index of smallest f(n) from fn_values\n",
    "            self.small_node_fn_char  = self.fringe_nodes[self.small_fn_index][0]  # take character that related to index\n",
    "\n",
    "            self.expand_node.append(self.fringe_nodes[self.small_fn_index]) # add smallest f(n) node to expand\n",
    "            del self.fringe_nodes[self.small_fn_index] # delete smallest node value from fringe\n",
    "            if self.expand_node[-1][0] == Goal:  # break the loop if Goal state has been expanded\n",
    "                break\n",
    "            \n",
    "            for self.item in self.tree[self.small_node_fn_char]: # go throug all current state neighbores\n",
    "                if self.item[0] in [self.expand_item[0] for self.expand_item in self.expand_node]: # check if any of current node neighbors in expand node then skip it\n",
    "                    continue\n",
    "                             # current node char:   path cost for previous node              + actual cost to current node \n",
    "                self.path_cost.update({self.item[0]: self.path_cost[self.small_node_fn_char] + self.item[1]}) # add the total actual cost from the start node to the current node\n",
    "\n",
    "                                #path cost for previous node            + current node heuristic  + actual cost to current node \n",
    "                self.fn_value = self.path_cost[self.small_node_fn_char] + heuristic[self.item[0]] + self.item[1] # calculate f(n) value for current node\n",
    "                self.temp = [self.item[0], self.fn_value] # take currnt node char and its f(n) value \n",
    "                self.fringe_nodes.append(self.temp) # store temp in fringe\n",
    "\n",
    "        return self.fringe_nodes, self.expand_node, self.path_cost.get(Goal)\n",
    "\n",
    "   #this function recieve the goal state and parint the optimal path  \n",
    "    def optimal(self, Goal):\n",
    "        self.optimal_path = [Goal] # optimal node sequence\n",
    "        for i in range(len(self.expand_node)-2,-1,-1): # start from last node in expand and move until reach the first node\n",
    "            self.current_node_char = self.expand_node[i][0] # take current node char \n",
    "            if Goal in [self.children[0] for self.children in self.tree[self.current_node_char]]: # check if current node related to goal\n",
    "                self.optimal_path.append(self.current_node_char) # add current node to optimal path\n",
    "                Goal = self.current_node_char # change goal to current node\n",
    "        self.optimal_path.reverse()\n",
    "        return self.optimal_path\n",
    "\n",
    "  \n",
    "\n",
    "\n",
    "if __name__ == \"__main__\":\n",
    "    tree = {\n",
    "        'A': [ ['S1',1] ],\n",
    "        'B': [ ['S1',1] ],\n",
    "        'C': [ ['S1',1] ],\n",
    "        'D': [ ['S1',1] ],\n",
    "        'S1': [ ['R1',3], ['R3',5] ],\n",
    "        'R1': [ ['R3',1], ['R2',4], ['R4',6] ],\n",
    "        'R2': [ ['S2',6] ],\n",
    "        'R3': [ ['R1',1], ['R4',5] ],\n",
    "        'R4': [ ['S2',4] ],\n",
    "        'S2': [ ['G1', 1], ['G2', 1], ['G3', 1], ['G4', 1] ],\n",
    "        'G1': [ ['S2',1] ],\n",
    "        'G2': [ ['S2',1] ],\n",
    "        'G3': [ ['S2',1] ],\n",
    "        'G4': [ ['S2',1] ]\n",
    "        \n",
    "    }\n",
    "\n",
    "    heuristic = {'A': 14, 'B': 14, 'C': 14, 'D': 14, 'S1': 13, 'R1': 10,'R2': 7, 'R3': 9, 'R4': 6, 'S2': 1, 'G1': 0, 'G2': 0, 'G3': 0, 'G4': 0}\n",
    "\n",
    "    try:\n",
    "        start = input(\"Please Enter Start Noode: \")\n",
    "        Goal = input(\"Please Enter Goal Node: \")\n",
    "        astar= AstarSearch(tree, heuristic)\n",
    "        fringe, expand, cost = astar.a_star_search_algorithm(start.upper(), Goal.upper())\n",
    "        optimal = astar.optimal(Goal.upper())\n",
    "        print(\"Fringe Nodes: \",fringe)\n",
    "        print(\"Expand Nodes: \", expand)\n",
    "        print(\"Optimal Path: \", optimal)\n",
    "        print(\"Total Cost: \", cost)\n",
    "    except :\n",
    "        print(\"\\n Wrong Chooise!, Please Try Again with Valid Input.\")\n"
   ]
  },
  {
   "cell_type": "markdown",
   "metadata": {},
   "source": [
    "# References:"
   ]
  },
  {
   "cell_type": "markdown",
   "metadata": {
    "direction": "rtl"
   },
   "source": [
    "<div dir=rtl>\n",
    "<h1>المراجع: </h1> \n",
    "</div>\n"
   ]
  },
  {
   "cell_type": "markdown",
   "metadata": {},
   "source": [
    "<ul>\n",
    "    <li><a href=\"https://github.com/learlinian/UW-Madison-CS540-Introduction-to-AI/blob/master/3.%20A%20Start%20Search.py\">learlinian/UW-Madison-CS540-Introduction-to-AI</a></li>\n",
    "    <li><a href=\" https://www.youtube.com/watch?v=mvZHDpCHphk&list=PLDoPjvoNmBAyE_gei5d18qkfIe-Z8mocs\">Elzero Web School</a></li>\n",
    "    <li><a href=\" https://stackoverflow.com/questions/28228345/how-to-search-through-dictionaries\">Stackoverflow</a></li>\n",
    "    <li><a href=\"https://www.javatpoint.com/ai-informed-search-algorithms\">JavaTpoint</a></li>\n",
    "</ul>\n"
   ]
  }
 ],
 "metadata": {
  "direction": "ltr",
  "kernelspec": {
   "display_name": "Python 3 (ipykernel)",
   "language": "python",
   "name": "python3"
  },
  "language_info": {
   "codemirror_mode": {
    "name": "ipython",
    "version": 3
   },
   "file_extension": ".py",
   "mimetype": "text/x-python",
   "name": "python",
   "nbconvert_exporter": "python",
   "pygments_lexer": "ipython3",
   "version": "3.10.0"
  }
 },
 "nbformat": 4,
 "nbformat_minor": 2
}
